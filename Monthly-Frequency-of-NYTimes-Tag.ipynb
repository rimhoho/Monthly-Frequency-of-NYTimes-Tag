{
 "cells": [
  {
   "cell_type": "markdown",
   "metadata": {},
   "source": [
    "<img src=\"resources/tag_metters_Logo.png\" width=\"299\" height=\"45\">"
   ]
  },
  {
   "cell_type": "markdown",
   "metadata": {},
   "source": [
    "## #Tag is invisible but it does actually track the trends\n",
    "To understand how tags play the role by using it on NYTimes daily and how people really react about the topic by looking at other media platforms through NYTimes tags."
   ]
  },
  {
   "cell_type": "code",
   "execution_count": 4,
   "metadata": {},
   "outputs": [
    {
     "data": {
      "text/plain": [
       "'/usr/local/opt/python/bin/python3.7'"
      ]
     },
     "execution_count": 4,
     "metadata": {},
     "output_type": "execute_result"
    }
   ],
   "source": [
    "import sys\n",
    "sys.executable"
   ]
  },
  {
   "cell_type": "code",
   "execution_count": 5,
   "metadata": {},
   "outputs": [
    {
     "data": {
      "text/plain": [
       "['/Users/hh/Documents/Pratt/Adv.ProjectsinVis/Monthly-Frequency-of-NYTimes-Tag',\n",
       " '/usr/local/Cellar/python/3.7.7/Frameworks/Python.framework/Versions/3.7/lib/python37.zip',\n",
       " '/usr/local/Cellar/python/3.7.7/Frameworks/Python.framework/Versions/3.7/lib/python3.7',\n",
       " '/usr/local/Cellar/python/3.7.7/Frameworks/Python.framework/Versions/3.7/lib/python3.7/lib-dynload',\n",
       " '',\n",
       " '/Users/hh/Library/Python/3.7/lib/python/site-packages',\n",
       " '/usr/local/lib/python3.7/site-packages',\n",
       " '/usr/local/lib/python3.7/site-packages/IPython/extensions',\n",
       " '/Users/hh/.ipython']"
      ]
     },
     "execution_count": 5,
     "metadata": {},
     "output_type": "execute_result"
    }
   ],
   "source": [
    "sys.path"
   ]
  },
  {
   "cell_type": "code",
   "execution_count": 216,
   "metadata": {},
   "outputs": [],
   "source": [
    "import json\n",
    "import requests\n",
    "import pandas as pd\n",
    "import numpy as np\n",
    "import operator\n",
    "import time\n",
    "import praw\n",
    "import nltk\n",
    "import configparser\n",
    "\n",
    "from apiclient import discovery\n",
    "from datetime import datetime\n",
    "from dateutil.relativedelta import relativedelta\n",
    "\n",
    "from pytrends.request import TrendReq\n",
    "from praw.models import MoreComments\n",
    "from googleapiclient import discovery\n",
    "from textblob import TextBlob\n",
    "from pandas.io.json import json_normalize\n",
    "\n",
    "import pprint\n",
    "import matplotlib.pyplot as plt\n",
    "import seaborn as sns"
   ]
  },
  {
   "cell_type": "code",
   "execution_count": 217,
   "metadata": {},
   "outputs": [],
   "source": [
    "from sqlalchemy import create_engine\n",
    "from sqlalchemy.ext.declarative import declarative_base\n",
    "from sqlalchemy import Table, Column, Integer, String, MetaData, ForeignKey\n",
    "\n",
    "from sqlalchemy.orm import sessionmaker"
   ]
  },
  {
   "cell_type": "code",
   "execution_count": 218,
   "metadata": {},
   "outputs": [],
   "source": [
    "# Use CofigParser to safely store the password or key\n",
    "config = configparser.ConfigParser()\n",
    "config.read('key_pair.ini')\n",
    "\n",
    "Times_key = config['Times']['key']\n",
    "\n",
    "Reddit_client_id = config['Reddit']['client_id']\n",
    "Reddit_client_secret = config['Reddit']['client_secret']\n",
    "Reddit_username = config['Reddit']['username']\n",
    "Reddit_password = config['Reddit']['password']\n",
    "Reddit_user_agent = config['Reddit']['user_agent']\n",
    "\n",
    "Youtube_service_name = config['Youtube']['YOUTUBE_API_SERVICE_NAME']\n",
    "Youtube_API_version = config['Youtube']['YOUTUBE_API_VERSION']\n",
    "Youtube_developer_key = config['Youtube']['DEVELOPER_KEY']"
   ]
  },
  {
   "cell_type": "markdown",
   "metadata": {},
   "source": [
    "### Storing Data using SQLalchemy"
   ]
  },
  {
   "cell_type": "code",
   "execution_count": 6,
   "metadata": {},
   "outputs": [],
   "source": [
    "Base = declarative_base()\n",
    "\n",
    "class Init(Base): \n",
    "    __tablename__ = 'metadata'\n",
    "    __table_args__ = {'extend_existing': True}\n",
    "\n",
    "    id = Column(Integer, primary_key=True)\n",
    "    Tag = Column(String(255))\n",
    "    Frequency = Column(String(255))\n",
    "    Title = Column(String(255))\n",
    "    Date = Column(String(25))\n",
    "    Url = Column(String(255))\n",
    "    img_URL = Column(String(255))"
   ]
  },
  {
   "cell_type": "markdown",
   "metadata": {},
   "source": [
    "### New York Times API\n",
    "https://developer.nytimes.com/apis"
   ]
  },
  {
   "cell_type": "markdown",
   "metadata": {},
   "source": [
    "Archive API\n",
    "- Finds all articles's metadata from archive APi (about 7000 every month): title, section_name, period, url, word_count, keywords"
   ]
  },
  {
   "cell_type": "code",
   "execution_count": 212,
   "metadata": {},
   "outputs": [],
   "source": [
    "def get_NYTimes_metadata():\n",
    "\n",
    "    # To get most frequently used tag in NYTimes\n",
    "    today = str(datetime.today())\n",
    "    monthly_archive = {}\n",
    "    frequent_tags_archive = {}\n",
    "\n",
    "    for yy in reversed(range(2019, int(today[:4]) + 1)):\n",
    "        if str(yy) == today[:4]:\n",
    "            ends = int(today[5:7]) + 1\n",
    "            start = 1\n",
    "        else:\n",
    "            ends = 13\n",
    "            if '0' in today[5:7]:\n",
    "                start = int(today[6:7])\n",
    "            else:\n",
    "                start = int(today[5:7])\n",
    "\n",
    "        for mm in reversed(range(start,ends)):\n",
    "            if len(str(mm)) == 1:\n",
    "                date_not_duplicate = str(yy) + '-0' + str(mm)\n",
    "            else:\n",
    "                date_not_duplicate = str(yy) + '-' + str(mm)\n",
    "#             print('--match--',date_not_duplicate)\n",
    "#             print('in it?', monthly_archive.keys())\n",
    "            if date_not_duplicate not in monthly_archive:\n",
    "                parameters = {'api-key': Times_key}           \n",
    "                archived_Url = 'https://api.nytimes.com/svc/archive/v1/'+ str(yy) +'/'+ str(mm) +'.json'\n",
    "                archives = requests.get(archived_Url, params=parameters).json()\n",
    "\n",
    "                monthly_article = []\n",
    "                for a in archives['response']['docs']:\n",
    "                    articles = {}\n",
    "                    articles['title'] = a['headline']['main']\n",
    "                    articles['pub_date'] = a['pub_date'][:10]\n",
    "                    articles['url'] = a['web_url']\n",
    "                    if len(a['multimedia']) !=0 and a['multimedia'][0]['url']:\n",
    "                        articles['thm_img'] = 'https://static01.nyt.com/' + a['multimedia'][0]['url']\n",
    "                    else:\n",
    "                        articles['thm_img'] = 'no_image_found'\n",
    "                    articles['tags'] = [''.join(tag['value']) for tag in a['keywords']]\n",
    "                    monthly_article.append(articles)\n",
    "                if len(str(mm)) == 1:\n",
    "                    mm = '0' + str(mm)\n",
    "#                 print('', str(yy)+'-'+str(mm))\n",
    "                monthly_archive[str(yy)+'-'+str(mm)] = monthly_article\n",
    "\n",
    "                tag_arr = []\n",
    "                for m in monthly_article:\n",
    "                    for t in m['tags']:\n",
    "                        for string in t.split(', '):\n",
    "                            tag_arr.append(', '.join(string.split(', ')))\n",
    "\n",
    "                count_tag = {}\n",
    "                for tag in tag_arr:\n",
    "                    if tag in ['Trump', 'Donald J']:\n",
    "                        tag = 'Donald Trump'\n",
    "                    if tag in ['Joseph R Jr', 'Biden']:\n",
    "                        tag = 'Joe Biden'\n",
    "                    if tag in ['Brett M', 'Supreme Court (US)', 'Kavanaugh']:\n",
    "                        tag = 'Brett Kavanaugh'\n",
    "                    if tag in ['Putin', 'Vladimir V']:\n",
    "                        tag = 'Putin'\n",
    "                    if tag in ['Fla', 'Parkland']:\n",
    "                        tag = 'Parkland'\n",
    "                    if tag in ['Coronavirus Aid', 'Relief', 'and Economic Security Act (2020)']:\n",
    "                        tag = 'Coronavirus Aid, Relief, and Economic Security Act (2020)'\n",
    "                    if tag in ['School Shootings and Armed Attacks']:\n",
    "                        tag = 'School Shootings'\n",
    "                    if tag in ['Shutdowns (Institutional)']:\n",
    "                        tag = 'Shutdowns'\n",
    "                    if tag in ['New York City', 'NYC','NY)','New York State' ]:\n",
    "                        tag = 'New York State'\n",
    "                    if tag in ['States (US)', 'United States']:\n",
    "                         tag = 'United States'\n",
    "                    if 'Russian Interference in 2016' in tag:\n",
    "                        tag = 'Russian interference in the 2016 United States elections'\n",
    "                    if tag in ['Homosexuality and Bisexuality']:\n",
    "                        tag = 'Homosexuality'\n",
    "                    if 'Trump-Ukraine' in tag:\n",
    "                        tag = 'Trump-Ukraine'\n",
    "                    if tag in ['Biden, Joseph R Jr', 'Biden']:\n",
    "                        tag = 'Joe Biden'\n",
    "                    if tag in ['Sanders, Bernard', 'Sanders', 'Bernard', 'Bernie Sanders']:\n",
    "                        tag = 'Bernie Sanders'\n",
    "                    if tag in ['Pete Buttigieg', 'Buttigieg, Pete (1982- )', 'Buttigieg', 'Pete Buttigieg', 'Pete (1982- )']:\n",
    "                        tag = 'Pete Buttigieg'\n",
    "                    if 'Quarantine' in tag:\n",
    "                        tag = 'Quarantines'\n",
    "                    if 'Deaths' in tag:\n",
    "                        tag = 'Deaths'\n",
    "                    if 'Child' in tag:\n",
    "                        tag = 'Parenting'\n",
    "                    if tag in ['Blacks', 'Black People']:\n",
    "                        tag = 'Blacks'\n",
    "                    if tag in ['Donald Trump', 'Weddings and Engagements', 'Women and Girls', 'New York State', 'Democratic Party', 'Primaries and Caucuses', 'United States Politics and Government', 'Politics and Government', 'Books and Literature', 'Television', 'Movies', 'Real Estate and Housing (Residential)', 'United States', 'United States International Relations' 'Primaries and Caucuses', 'United States Economy', 'Elections']:\n",
    "                        tag = ''\n",
    "\n",
    "                    if tag is not '':\n",
    "                        if tag in count_tag:\n",
    "                            count_tag[tag] += 1\n",
    "                        else:\n",
    "                            count_tag[tag] = 1   \n",
    "\n",
    "                # This variable is what we want to get in NYTimes\n",
    "                tags_with_frequency = sorted(count_tag.items(),key=operator.itemgetter(1),reverse=True)[:11]\n",
    "                frequent_tags_archive[str(yy)+'-'+str(mm)] = tags_with_frequency\n",
    "\n",
    "    return monthly_archive, frequent_tags_archive"
   ]
  },
  {
   "cell_type": "code",
   "execution_count": null,
   "metadata": {
    "scrolled": true
   },
   "outputs": [],
   "source": [
    "monthly_archive = get_NYTimes_metadata()[0]\n",
    "frequent_tags_archive = get_NYTimes_metadata()[1]\n",
    "frequent_tags_archive"
   ]
  },
  {
   "cell_type": "markdown",
   "metadata": {},
   "source": [
    "### Find the most appeared tags among these days"
   ]
  },
  {
   "cell_type": "code",
   "execution_count": 227,
   "metadata": {},
   "outputs": [
    {
     "data": {
      "text/plain": [
       "{'2020-05': [('Coronavirus (2019-nCoV)', 990),\n",
       "  ('Quarantines', 346),\n",
       "  ('Coronavirus Aid, Relief, and Economic Security Act (2020)', 204),\n",
       "  ('Parenting', 165),\n",
       "  ('Deaths', 161),\n",
       "  ('Shutdowns', 108),\n",
       "  ('Joe Biden', 98),\n",
       "  ('Epidemics', 87),\n",
       "  ('Presidential Election of 2020', 73),\n",
       "  ('Labor and Jobs', 58),\n",
       "  ('Unemployment', 53)],\n",
       " '2020-04': [('Coronavirus (2019-nCoV)', 3978),\n",
       "  ('Parenting', 1278),\n",
       "  ('Quarantines', 983),\n",
       "  ('Coronavirus Aid, Relief, and Economic Security Act (2020)', 807),\n",
       "  ('Deaths', 568),\n",
       "  ('Presidential Election of 2020', 537),\n",
       "  ('Epidemics', 435),\n",
       "  ('Joe Biden', 370),\n",
       "  ('Shutdowns', 264),\n",
       "  ('Hospitals', 249),\n",
       "  ('Babies and Infants', 206)],\n",
       " '2020-03': [('Coronavirus (2019-nCoV)', 3463),\n",
       "  ('Quarantines', 860),\n",
       "  ('Joe Biden', 817),\n",
       "  ('Presidential Election of 2020', 813),\n",
       "  ('Bernie Sanders', 705),\n",
       "  ('Epidemics', 650),\n",
       "  ('Shutdowns', 372),\n",
       "  ('Deaths', 333),\n",
       "  ('Parenting', 310),\n",
       "  ('California', 234),\n",
       "  ('Hospitals', 206)],\n",
       " '2020-02': [('Presidential Election of 2020', 855),\n",
       "  ('Bernie Sanders', 704),\n",
       "  ('Coronavirus (2019-nCoV)', 600),\n",
       "  ('Joe Biden', 520),\n",
       "  ('Pete Buttigieg', 415),\n",
       "  ('China', 345),\n",
       "  ('Epidemics', 269),\n",
       "  ('Deaths', 267),\n",
       "  ('Michael R', 259),\n",
       "  ('Bloomberg', 242),\n",
       "  ('Parenting', 210)],\n",
       " '2020-01': [('Presidential Election of 2020', 668),\n",
       "  ('Trump-Ukraine', 472),\n",
       "  ('United States International Relations', 406),\n",
       "  ('Bernie Sanders', 406),\n",
       "  ('Impeachment', 387),\n",
       "  ('Senate', 377),\n",
       "  ('Iran', 345),\n",
       "  ('Joe Biden', 342),\n",
       "  ('United States Defense and Military Forces', 268),\n",
       "  ('Suleimani', 257),\n",
       "  ('Qassim', 257)],\n",
       " '2019-12': [('Presidential Election of 2020', 346),\n",
       "  ('Trump-Ukraine', 324),\n",
       "  ('Impeachment', 299),\n",
       "  ('Deaths', 279),\n",
       "  ('House of Representatives', 238),\n",
       "  ('Joe Biden', 237),\n",
       "  ('Parenting', 194),\n",
       "  ('United States International Relations', 186),\n",
       "  ('Republican Party', 174),\n",
       "  ('Pete Buttigieg', 144),\n",
       "  ('Demonstrations', 131)],\n",
       " '2019-11': [('Trump-Ukraine', 532),\n",
       "  ('Presidential Election of 2020', 417),\n",
       "  ('Impeachment', 287),\n",
       "  ('Joe Biden', 282),\n",
       "  ('Parenting', 228),\n",
       "  ('Deaths', 217),\n",
       "  ('United States International Relations', 213),\n",
       "  ('Bernie Sanders', 199),\n",
       "  ('Computers and the Internet', 194),\n",
       "  ('Ukraine', 193),\n",
       "  ('Republican Party', 174)],\n",
       " '2019-10': [('Trump-Ukraine', 502),\n",
       "  ('Joe Biden', 486),\n",
       "  ('Presidential Election of 2020', 437),\n",
       "  ('United States International Relations', 315),\n",
       "  ('Deaths', 248),\n",
       "  ('Art', 244),\n",
       "  ('Parenting', 243),\n",
       "  ('Syria', 227),\n",
       "  ('Bernie Sanders', 205),\n",
       "  ('Impeachment', 202),\n",
       "  ('Ukraine', 187)],\n",
       " '2019-09': [('Joe Biden', 499),\n",
       "  ('Presidential Election of 2020', 384),\n",
       "  ('Trump-Ukraine', 281),\n",
       "  ('United States International Relations', 252),\n",
       "  ('Deaths', 231),\n",
       "  ('Parenting', 208),\n",
       "  ('Ukraine', 188),\n",
       "  ('House of Representatives', 183),\n",
       "  ('Impeachment', 177),\n",
       "  ('Art', 174),\n",
       "  ('Fashion and Apparel', 171)],\n",
       " '2019-08': [('Presidential Election of 2020', 274),\n",
       "  ('China', 274),\n",
       "  ('Parenting', 269),\n",
       "  ('Shooting (2019)', 249),\n",
       "  ('Joe Biden', 224),\n",
       "  ('International Trade and World Market', 217),\n",
       "  ('United States International Relations', 212),\n",
       "  ('Deaths', 194),\n",
       "  ('Immigration and Emigration', 172),\n",
       "  ('Tex', 168),\n",
       "  ('El Paso', 166)],\n",
       " '2019-07': [('Presidential Election of 2020', 371),\n",
       "  ('Parenting', 240),\n",
       "  ('Deaths', 226),\n",
       "  ('Joe Biden', 210),\n",
       "  ('United States International Relations', 195),\n",
       "  ('Demonstrations', 183),\n",
       "  ('Protests and Riots', 183),\n",
       "  ('House of Representatives', 180),\n",
       "  ('Bernie Sanders', 176),\n",
       "  ('Immigration and Emigration', 174),\n",
       "  ('Blacks', 173)],\n",
       " '2019-06': [('Presidential Election of 2020', 555),\n",
       "  ('United States International Relations', 302),\n",
       "  ('Joe Biden', 284),\n",
       "  ('Parenting', 258),\n",
       "  ('China', 231),\n",
       "  ('Deaths', 205),\n",
       "  ('Homosexuality', 204),\n",
       "  ('Theater', 194),\n",
       "  ('Demonstrations', 183),\n",
       "  ('Protests and Riots', 183),\n",
       "  ('Immigration and Emigration', 178)],\n",
       " '2019-05': [('Presidential Election of 2020', 270),\n",
       "  ('Parenting', 264),\n",
       "  ('United States International Relations', 246),\n",
       "  ('Deaths', 234),\n",
       "  ('China', 223),\n",
       "  ('Joe Biden', 210),\n",
       "  ('International Trade and World Market', 197),\n",
       "  ('Russian interference in the 2016 United States elections', 189),\n",
       "  ('Art', 161),\n",
       "  ('Immigration and Emigration', 155),\n",
       "  ('Theater', 154)]}"
      ]
     },
     "execution_count": 227,
     "metadata": {},
     "output_type": "execute_result"
    }
   ],
   "source": [
    "frequent_tags_archive"
   ]
  },
  {
   "cell_type": "code",
   "execution_count": 228,
   "metadata": {},
   "outputs": [
    {
     "name": "stdout",
     "output_type": "stream",
     "text": [
      "{'Coronavirus (2019-nCoV)': 9031, 'Quarantines': 2189, 'Coronavirus Aid, Relief, and Economic Security Act (2020)': 1011, 'Parenting': 3867, 'Deaths': 3163, 'Shutdowns': 744, 'Joe Biden': 4579, 'Epidemics': 1441, 'Presidential Election of 2020': 6000, 'Labor and Jobs': 58, 'Unemployment': 53, 'Hospitals': 455, 'Babies and Infants': 206, 'Bernie Sanders': 2395, 'California': 234, 'Pete Buttigieg': 559, 'China': 1073, 'Michael R': 259, 'Bloomberg': 242, 'Trump-Ukraine': 2111, 'United States International Relations': 2327, 'Impeachment': 1352, 'Senate': 377, 'Iran': 345, 'United States Defense and Military Forces': 268, 'Suleimani': 257, 'Qassim': 257, 'House of Representatives': 601, 'Republican Party': 348, 'Demonstrations': 497, 'Computers and the Internet': 194, 'Ukraine': 568, 'Art': 579, 'Syria': 227, 'Fashion and Apparel': 171, 'Shooting (2019)': 249, 'International Trade and World Market': 414, 'Immigration and Emigration': 679, 'Tex': 168, 'El Paso': 166, 'Protests and Riots': 366, 'Blacks': 173, 'Homosexuality': 204, 'Theater': 348, 'Russian interference in the 2016 United States elections': 189}\n"
     ]
    }
   ],
   "source": [
    "dicts= {}\n",
    "for periode in frequent_tags_archive:\n",
    "    count = 0\n",
    "    for tags in frequent_tags_archive[periode]:\n",
    "        if tags[0] not in dicts:\n",
    "#             count = count + 1\n",
    "            dicts[tags[0]] = tags[1]\n",
    "        else:\n",
    "            dicts[tags[0]] = dicts[tags[0]] + tags[1]\n",
    "print(dicts)"
   ]
  },
  {
   "cell_type": "code",
   "execution_count": 9,
   "metadata": {},
   "outputs": [],
   "source": [
    "general_tags = [('Donald Trump', 28),\n",
    " ('New York State', 28),\n",
    " ('United States Politics and Government', 28),\n",
    " ('Politics and Government', 28),\n",
    " ('Books and Literature', 28),\n",
    " ('Television', 28),\n",
    " ('Movies', 28),\n",
    " ('Real Estate and Housing (Residential)', 28),\n",
    " ('United States', 27),\n",
    " ('United States International Relations', 26),\n",
    " ('Primaries and Caucuses', ),\n",
    " ('United States Economy', ),\n",
    " ('United States Defense and Military Forces', ),\n",
    " ('Appointments and Executive Changes',),\n",
    " ('Weddings and Engagements', ),\n",
    " ('Elections',)]#,\n",
    "#  ('Democratic Party', 25),\n",
    "#  ('China', 25),\n",
    "#  ('Art', 25),\n",
    "#  ('Deaths (Obituaries)', 24),\n",
    "#  ('Women and Girls', 21),\n",
    "#  ('Elections', 20),\n",
    "#  ('Republican Party', 20),\n",
    "#  ('House of Representatives', 18),\n",
    "#  ('Theater', 17),\n",
    "#  ('Presidential Election of 2020', 16),\n",
    "#  ('Weddings and Engagements', 15)]"
   ]
  },
  {
   "cell_type": "markdown",
   "metadata": {},
   "source": [
    "### Pytrends API\n",
    "https://pypi.org/project/pytrends/"
   ]
  },
  {
   "cell_type": "markdown",
   "metadata": {},
   "source": [
    "Sample codes to see Google doesn't block my IP"
   ]
  },
  {
   "cell_type": "code",
   "execution_count": 219,
   "metadata": {
    "scrolled": true
   },
   "outputs": [
    {
     "data": {
      "text/html": [
       "<div>\n",
       "<style scoped>\n",
       "    .dataframe tbody tr th:only-of-type {\n",
       "        vertical-align: middle;\n",
       "    }\n",
       "\n",
       "    .dataframe tbody tr th {\n",
       "        vertical-align: top;\n",
       "    }\n",
       "\n",
       "    .dataframe thead th {\n",
       "        text-align: right;\n",
       "    }\n",
       "</style>\n",
       "<table border=\"1\" class=\"dataframe\">\n",
       "  <thead>\n",
       "    <tr style=\"text-align: right;\">\n",
       "      <th></th>\n",
       "      <th>date</th>\n",
       "      <th>Coronavirus (2019-nCoV)</th>\n",
       "      <th>isPartial</th>\n",
       "    </tr>\n",
       "  </thead>\n",
       "  <tbody>\n",
       "    <tr>\n",
       "      <th>0</th>\n",
       "      <td>2020-04-01</td>\n",
       "      <td>75</td>\n",
       "      <td>False</td>\n",
       "    </tr>\n",
       "    <tr>\n",
       "      <th>1</th>\n",
       "      <td>2020-04-02</td>\n",
       "      <td>44</td>\n",
       "      <td>False</td>\n",
       "    </tr>\n",
       "    <tr>\n",
       "      <th>2</th>\n",
       "      <td>2020-04-03</td>\n",
       "      <td>56</td>\n",
       "      <td>False</td>\n",
       "    </tr>\n",
       "    <tr>\n",
       "      <th>3</th>\n",
       "      <td>2020-04-04</td>\n",
       "      <td>74</td>\n",
       "      <td>False</td>\n",
       "    </tr>\n",
       "    <tr>\n",
       "      <th>4</th>\n",
       "      <td>2020-04-05</td>\n",
       "      <td>87</td>\n",
       "      <td>False</td>\n",
       "    </tr>\n",
       "  </tbody>\n",
       "</table>\n",
       "</div>"
      ],
      "text/plain": [
       "        date  Coronavirus (2019-nCoV)  isPartial\n",
       "0 2020-04-01                       75      False\n",
       "1 2020-04-02                       44      False\n",
       "2 2020-04-03                       56      False\n",
       "3 2020-04-04                       74      False\n",
       "4 2020-04-05                       87      False"
      ]
     },
     "execution_count": 219,
     "metadata": {},
     "output_type": "execute_result"
    }
   ],
   "source": [
    "pytrends = TrendReq(hl='en-US', tz=360, timeout=(10,25))\n",
    "tag_arr = ['Coronavirus (2019-nCoV)']\n",
    "pytrends.build_payload(tag_arr, cat=0, timeframe='2020-04-01 ' + str(datetime.now())[:10], geo='', gprop='')\n",
    "time.sleep(2)\n",
    "df = pytrends.interest_over_time().reset_index()\n",
    "df.head()"
   ]
  },
  {
   "cell_type": "code",
   "execution_count": 114,
   "metadata": {},
   "outputs": [
    {
     "data": {
      "text/plain": [
       "Timestamp('2020-04-01 00:00:00')"
      ]
     },
     "execution_count": 114,
     "metadata": {},
     "output_type": "execute_result"
    }
   ],
   "source": [
    "df['date'].iloc[0]"
   ]
  },
  {
   "cell_type": "code",
   "execution_count": 117,
   "metadata": {},
   "outputs": [
    {
     "name": "stdout",
     "output_type": "stream",
     "text": [
      "2019-05-01 2020-05-11\n"
     ]
    }
   ],
   "source": [
    "today = str(datetime.today())\n",
    "print('2019-05-01 '+ today[:10])"
   ]
  },
  {
   "cell_type": "code",
   "execution_count": 118,
   "metadata": {},
   "outputs": [],
   "source": [
    "# Get a unique tag collection for the search query\n",
    "def get_trends_Tags(frequent_tags_archive): \n",
    "    today = str(datetime.today())\n",
    "    frequent_tag_only = {}\n",
    "    \n",
    "    for time_period in frequent_tags_archive:\n",
    "        tag_only = []\n",
    "        for each in frequent_tags_archive[time_period]:    \n",
    "            tag_only.append(each[0])\n",
    "            frequent_tag_only[time_period] = tag_only\n",
    "        \n",
    "    pytrends = TrendReq(hl='en-US', tz=360)\n",
    "    monthly_interests = {}\n",
    "    \n",
    "    for period in frequent_tag_only:\n",
    "        data = []\n",
    "        for tag in frequent_tag_only[period]:\n",
    "            tag_arr = []\n",
    "            tag_arr.append(tag)\n",
    "            print(tag)\n",
    "            interest_over_time = {}\n",
    "            \n",
    "            try:\n",
    "                pytrends.build_payload(tag_arr, cat=0, timeframe = '2019-05-01 '+ today[:10], geo='', gprop='')\n",
    "                df = pytrends.interest_over_time().reset_index()\n",
    "            except Exception as e:\n",
    "                print(tag_arr, ', and which reason? ', e)\n",
    "                pass\n",
    "            \n",
    "            interest_over_time['Tag'] = tag\n",
    "            try:\n",
    "                interest_over_time['StartDate'] = one_month_ago\n",
    "                interest_over_time['EndDate'] = one_month_later\n",
    "                interest_over_time['Rate'] = [rate for rate in df[tag]]\n",
    "            except Exception as e:\n",
    "                pass\n",
    "            data.append(interest_over_time)     \n",
    "        monthly_interests[period] = data\n",
    "    return monthly_interests"
   ]
  },
  {
   "cell_type": "code",
   "execution_count": 119,
   "metadata": {
    "scrolled": true
   },
   "outputs": [
    {
     "name": "stdout",
     "output_type": "stream",
     "text": [
      "Coronavirus (2019-nCoV)\n",
      "Quarantines\n",
      "Deaths\n",
      "Coronavirus Aid, Relief, and Economic Security Act (2020)\n"
     ]
    },
    {
     "ename": "KeyboardInterrupt",
     "evalue": "",
     "output_type": "error",
     "traceback": [
      "\u001b[0;31m---------------------------------------------------------------------------\u001b[0m",
      "\u001b[0;31mKeyboardInterrupt\u001b[0m                         Traceback (most recent call last)",
      "\u001b[0;32m<ipython-input-119-cf1555a6017d>\u001b[0m in \u001b[0;36m<module>\u001b[0;34m\u001b[0m\n\u001b[0;32m----> 1\u001b[0;31m \u001b[0mmonthly_interests\u001b[0m \u001b[0;34m=\u001b[0m \u001b[0mget_trends_Tags\u001b[0m\u001b[0;34m(\u001b[0m\u001b[0mfrequent_tags_archive\u001b[0m\u001b[0;34m)\u001b[0m\u001b[0;34m\u001b[0m\u001b[0;34m\u001b[0m\u001b[0m\n\u001b[0m\u001b[1;32m      2\u001b[0m \u001b[0mmonthly_interests\u001b[0m\u001b[0;34m\u001b[0m\u001b[0;34m\u001b[0m\u001b[0m\n",
      "\u001b[0;32m<ipython-input-118-1e0979aaf105>\u001b[0m in \u001b[0;36mget_trends_Tags\u001b[0;34m(frequent_tags_archive)\u001b[0m\n\u001b[1;32m     23\u001b[0m             \u001b[0;32mtry\u001b[0m\u001b[0;34m:\u001b[0m\u001b[0;34m\u001b[0m\u001b[0;34m\u001b[0m\u001b[0m\n\u001b[1;32m     24\u001b[0m                 \u001b[0mpytrends\u001b[0m\u001b[0;34m.\u001b[0m\u001b[0mbuild_payload\u001b[0m\u001b[0;34m(\u001b[0m\u001b[0mtag_arr\u001b[0m\u001b[0;34m,\u001b[0m \u001b[0mcat\u001b[0m\u001b[0;34m=\u001b[0m\u001b[0;36m0\u001b[0m\u001b[0;34m,\u001b[0m \u001b[0mtimeframe\u001b[0m \u001b[0;34m=\u001b[0m \u001b[0;34m'2019-05-01 '\u001b[0m\u001b[0;34m+\u001b[0m \u001b[0mtoday\u001b[0m\u001b[0;34m[\u001b[0m\u001b[0;34m:\u001b[0m\u001b[0;36m10\u001b[0m\u001b[0;34m]\u001b[0m\u001b[0;34m,\u001b[0m \u001b[0mgeo\u001b[0m\u001b[0;34m=\u001b[0m\u001b[0;34m''\u001b[0m\u001b[0;34m,\u001b[0m \u001b[0mgprop\u001b[0m\u001b[0;34m=\u001b[0m\u001b[0;34m''\u001b[0m\u001b[0;34m)\u001b[0m\u001b[0;34m\u001b[0m\u001b[0;34m\u001b[0m\u001b[0m\n\u001b[0;32m---> 25\u001b[0;31m                 \u001b[0mdf\u001b[0m \u001b[0;34m=\u001b[0m \u001b[0mpytrends\u001b[0m\u001b[0;34m.\u001b[0m\u001b[0minterest_over_time\u001b[0m\u001b[0;34m(\u001b[0m\u001b[0;34m)\u001b[0m\u001b[0;34m.\u001b[0m\u001b[0mreset_index\u001b[0m\u001b[0;34m(\u001b[0m\u001b[0;34m)\u001b[0m\u001b[0;34m\u001b[0m\u001b[0;34m\u001b[0m\u001b[0m\n\u001b[0m\u001b[1;32m     26\u001b[0m             \u001b[0;32mexcept\u001b[0m \u001b[0mException\u001b[0m \u001b[0;32mas\u001b[0m \u001b[0me\u001b[0m\u001b[0;34m:\u001b[0m\u001b[0;34m\u001b[0m\u001b[0;34m\u001b[0m\u001b[0m\n\u001b[1;32m     27\u001b[0m                 \u001b[0mprint\u001b[0m\u001b[0;34m(\u001b[0m\u001b[0mtag_arr\u001b[0m\u001b[0;34m,\u001b[0m \u001b[0;34m', and which reason? '\u001b[0m\u001b[0;34m,\u001b[0m \u001b[0me\u001b[0m\u001b[0;34m)\u001b[0m\u001b[0;34m\u001b[0m\u001b[0;34m\u001b[0m\u001b[0m\n",
      "\u001b[0;32m~/Library/Python/3.7/lib/python/site-packages/pytrends/request.py\u001b[0m in \u001b[0;36minterest_over_time\u001b[0;34m(self)\u001b[0m\n\u001b[1;32m    212\u001b[0m             \u001b[0mmethod\u001b[0m\u001b[0;34m=\u001b[0m\u001b[0mTrendReq\u001b[0m\u001b[0;34m.\u001b[0m\u001b[0mGET_METHOD\u001b[0m\u001b[0;34m,\u001b[0m\u001b[0;34m\u001b[0m\u001b[0;34m\u001b[0m\u001b[0m\n\u001b[1;32m    213\u001b[0m             \u001b[0mtrim_chars\u001b[0m\u001b[0;34m=\u001b[0m\u001b[0;36m5\u001b[0m\u001b[0;34m,\u001b[0m\u001b[0;34m\u001b[0m\u001b[0;34m\u001b[0m\u001b[0m\n\u001b[0;32m--> 214\u001b[0;31m             \u001b[0mparams\u001b[0m\u001b[0;34m=\u001b[0m\u001b[0mover_time_payload\u001b[0m\u001b[0;34m,\u001b[0m\u001b[0;34m\u001b[0m\u001b[0;34m\u001b[0m\u001b[0m\n\u001b[0m\u001b[1;32m    215\u001b[0m         )\n\u001b[1;32m    216\u001b[0m \u001b[0;34m\u001b[0m\u001b[0m\n",
      "\u001b[0;32m~/Library/Python/3.7/lib/python/site-packages/pytrends/request.py\u001b[0m in \u001b[0;36m_get_data\u001b[0;34m(self, url, method, trim_chars, **kwargs)\u001b[0m\n\u001b[1;32m    123\u001b[0m         \u001b[0;32melse\u001b[0m\u001b[0;34m:\u001b[0m\u001b[0;34m\u001b[0m\u001b[0;34m\u001b[0m\u001b[0m\n\u001b[1;32m    124\u001b[0m             response = s.get(url, timeout=self.timeout, cookies=self.cookies,\n\u001b[0;32m--> 125\u001b[0;31m                              **kwargs)  # DO NOT USE retries or backoff_factor here\n\u001b[0m\u001b[1;32m    126\u001b[0m         \u001b[0;31m# check if the response contains json and throw an exception otherwise\u001b[0m\u001b[0;34m\u001b[0m\u001b[0;34m\u001b[0m\u001b[0;34m\u001b[0m\u001b[0m\n\u001b[1;32m    127\u001b[0m         \u001b[0;31m# Google mostly sends 'application/json' in the Content-Type header,\u001b[0m\u001b[0;34m\u001b[0m\u001b[0;34m\u001b[0m\u001b[0;34m\u001b[0m\u001b[0m\n",
      "\u001b[0;32m/usr/local/lib/python3.7/site-packages/requests/sessions.py\u001b[0m in \u001b[0;36mget\u001b[0;34m(self, url, **kwargs)\u001b[0m\n\u001b[1;32m    544\u001b[0m \u001b[0;34m\u001b[0m\u001b[0m\n\u001b[1;32m    545\u001b[0m         \u001b[0mkwargs\u001b[0m\u001b[0;34m.\u001b[0m\u001b[0msetdefault\u001b[0m\u001b[0;34m(\u001b[0m\u001b[0;34m'allow_redirects'\u001b[0m\u001b[0;34m,\u001b[0m \u001b[0;32mTrue\u001b[0m\u001b[0;34m)\u001b[0m\u001b[0;34m\u001b[0m\u001b[0;34m\u001b[0m\u001b[0m\n\u001b[0;32m--> 546\u001b[0;31m         \u001b[0;32mreturn\u001b[0m \u001b[0mself\u001b[0m\u001b[0;34m.\u001b[0m\u001b[0mrequest\u001b[0m\u001b[0;34m(\u001b[0m\u001b[0;34m'GET'\u001b[0m\u001b[0;34m,\u001b[0m \u001b[0murl\u001b[0m\u001b[0;34m,\u001b[0m \u001b[0;34m**\u001b[0m\u001b[0mkwargs\u001b[0m\u001b[0;34m)\u001b[0m\u001b[0;34m\u001b[0m\u001b[0;34m\u001b[0m\u001b[0m\n\u001b[0m\u001b[1;32m    547\u001b[0m \u001b[0;34m\u001b[0m\u001b[0m\n\u001b[1;32m    548\u001b[0m     \u001b[0;32mdef\u001b[0m \u001b[0moptions\u001b[0m\u001b[0;34m(\u001b[0m\u001b[0mself\u001b[0m\u001b[0;34m,\u001b[0m \u001b[0murl\u001b[0m\u001b[0;34m,\u001b[0m \u001b[0;34m**\u001b[0m\u001b[0mkwargs\u001b[0m\u001b[0;34m)\u001b[0m\u001b[0;34m:\u001b[0m\u001b[0;34m\u001b[0m\u001b[0;34m\u001b[0m\u001b[0m\n",
      "\u001b[0;32m/usr/local/lib/python3.7/site-packages/requests/sessions.py\u001b[0m in \u001b[0;36mrequest\u001b[0;34m(self, method, url, params, data, headers, cookies, files, auth, timeout, allow_redirects, proxies, hooks, stream, verify, cert, json)\u001b[0m\n\u001b[1;32m    531\u001b[0m         }\n\u001b[1;32m    532\u001b[0m         \u001b[0msend_kwargs\u001b[0m\u001b[0;34m.\u001b[0m\u001b[0mupdate\u001b[0m\u001b[0;34m(\u001b[0m\u001b[0msettings\u001b[0m\u001b[0;34m)\u001b[0m\u001b[0;34m\u001b[0m\u001b[0;34m\u001b[0m\u001b[0m\n\u001b[0;32m--> 533\u001b[0;31m         \u001b[0mresp\u001b[0m \u001b[0;34m=\u001b[0m \u001b[0mself\u001b[0m\u001b[0;34m.\u001b[0m\u001b[0msend\u001b[0m\u001b[0;34m(\u001b[0m\u001b[0mprep\u001b[0m\u001b[0;34m,\u001b[0m \u001b[0;34m**\u001b[0m\u001b[0msend_kwargs\u001b[0m\u001b[0;34m)\u001b[0m\u001b[0;34m\u001b[0m\u001b[0;34m\u001b[0m\u001b[0m\n\u001b[0m\u001b[1;32m    534\u001b[0m \u001b[0;34m\u001b[0m\u001b[0m\n\u001b[1;32m    535\u001b[0m         \u001b[0;32mreturn\u001b[0m \u001b[0mresp\u001b[0m\u001b[0;34m\u001b[0m\u001b[0;34m\u001b[0m\u001b[0m\n",
      "\u001b[0;32m/usr/local/lib/python3.7/site-packages/requests/sessions.py\u001b[0m in \u001b[0;36msend\u001b[0;34m(self, request, **kwargs)\u001b[0m\n\u001b[1;32m    644\u001b[0m \u001b[0;34m\u001b[0m\u001b[0m\n\u001b[1;32m    645\u001b[0m         \u001b[0;31m# Send the request\u001b[0m\u001b[0;34m\u001b[0m\u001b[0;34m\u001b[0m\u001b[0;34m\u001b[0m\u001b[0m\n\u001b[0;32m--> 646\u001b[0;31m         \u001b[0mr\u001b[0m \u001b[0;34m=\u001b[0m \u001b[0madapter\u001b[0m\u001b[0;34m.\u001b[0m\u001b[0msend\u001b[0m\u001b[0;34m(\u001b[0m\u001b[0mrequest\u001b[0m\u001b[0;34m,\u001b[0m \u001b[0;34m**\u001b[0m\u001b[0mkwargs\u001b[0m\u001b[0;34m)\u001b[0m\u001b[0;34m\u001b[0m\u001b[0;34m\u001b[0m\u001b[0m\n\u001b[0m\u001b[1;32m    647\u001b[0m \u001b[0;34m\u001b[0m\u001b[0m\n\u001b[1;32m    648\u001b[0m         \u001b[0;31m# Total elapsed time of the request (approximately)\u001b[0m\u001b[0;34m\u001b[0m\u001b[0;34m\u001b[0m\u001b[0;34m\u001b[0m\u001b[0m\n",
      "\u001b[0;32m/usr/local/lib/python3.7/site-packages/requests/adapters.py\u001b[0m in \u001b[0;36msend\u001b[0;34m(self, request, stream, timeout, verify, cert, proxies)\u001b[0m\n\u001b[1;32m    447\u001b[0m                     \u001b[0mdecode_content\u001b[0m\u001b[0;34m=\u001b[0m\u001b[0;32mFalse\u001b[0m\u001b[0;34m,\u001b[0m\u001b[0;34m\u001b[0m\u001b[0;34m\u001b[0m\u001b[0m\n\u001b[1;32m    448\u001b[0m                     \u001b[0mretries\u001b[0m\u001b[0;34m=\u001b[0m\u001b[0mself\u001b[0m\u001b[0;34m.\u001b[0m\u001b[0mmax_retries\u001b[0m\u001b[0;34m,\u001b[0m\u001b[0;34m\u001b[0m\u001b[0;34m\u001b[0m\u001b[0m\n\u001b[0;32m--> 449\u001b[0;31m                     \u001b[0mtimeout\u001b[0m\u001b[0;34m=\u001b[0m\u001b[0mtimeout\u001b[0m\u001b[0;34m\u001b[0m\u001b[0;34m\u001b[0m\u001b[0m\n\u001b[0m\u001b[1;32m    450\u001b[0m                 )\n\u001b[1;32m    451\u001b[0m \u001b[0;34m\u001b[0m\u001b[0m\n",
      "\u001b[0;32m/usr/local/lib/python3.7/site-packages/urllib3/connectionpool.py\u001b[0m in \u001b[0;36murlopen\u001b[0;34m(self, method, url, body, headers, retries, redirect, assert_same_host, timeout, pool_timeout, release_conn, chunked, body_pos, **response_kw)\u001b[0m\n\u001b[1;32m    670\u001b[0m                 \u001b[0mbody\u001b[0m\u001b[0;34m=\u001b[0m\u001b[0mbody\u001b[0m\u001b[0;34m,\u001b[0m\u001b[0;34m\u001b[0m\u001b[0;34m\u001b[0m\u001b[0m\n\u001b[1;32m    671\u001b[0m                 \u001b[0mheaders\u001b[0m\u001b[0;34m=\u001b[0m\u001b[0mheaders\u001b[0m\u001b[0;34m,\u001b[0m\u001b[0;34m\u001b[0m\u001b[0;34m\u001b[0m\u001b[0m\n\u001b[0;32m--> 672\u001b[0;31m                 \u001b[0mchunked\u001b[0m\u001b[0;34m=\u001b[0m\u001b[0mchunked\u001b[0m\u001b[0;34m,\u001b[0m\u001b[0;34m\u001b[0m\u001b[0;34m\u001b[0m\u001b[0m\n\u001b[0m\u001b[1;32m    673\u001b[0m             )\n\u001b[1;32m    674\u001b[0m \u001b[0;34m\u001b[0m\u001b[0m\n",
      "\u001b[0;32m/usr/local/lib/python3.7/site-packages/urllib3/connectionpool.py\u001b[0m in \u001b[0;36m_make_request\u001b[0;34m(self, conn, method, url, timeout, chunked, **httplib_request_kw)\u001b[0m\n\u001b[1;32m    419\u001b[0m                     \u001b[0;31m# Python 3 (including for exceptions like SystemExit).\u001b[0m\u001b[0;34m\u001b[0m\u001b[0;34m\u001b[0m\u001b[0;34m\u001b[0m\u001b[0m\n\u001b[1;32m    420\u001b[0m                     \u001b[0;31m# Otherwise it looks like a bug in the code.\u001b[0m\u001b[0;34m\u001b[0m\u001b[0;34m\u001b[0m\u001b[0;34m\u001b[0m\u001b[0m\n\u001b[0;32m--> 421\u001b[0;31m                     \u001b[0msix\u001b[0m\u001b[0;34m.\u001b[0m\u001b[0mraise_from\u001b[0m\u001b[0;34m(\u001b[0m\u001b[0me\u001b[0m\u001b[0;34m,\u001b[0m \u001b[0;32mNone\u001b[0m\u001b[0;34m)\u001b[0m\u001b[0;34m\u001b[0m\u001b[0;34m\u001b[0m\u001b[0m\n\u001b[0m\u001b[1;32m    422\u001b[0m         \u001b[0;32mexcept\u001b[0m \u001b[0;34m(\u001b[0m\u001b[0mSocketTimeout\u001b[0m\u001b[0;34m,\u001b[0m \u001b[0mBaseSSLError\u001b[0m\u001b[0;34m,\u001b[0m \u001b[0mSocketError\u001b[0m\u001b[0;34m)\u001b[0m \u001b[0;32mas\u001b[0m \u001b[0me\u001b[0m\u001b[0;34m:\u001b[0m\u001b[0;34m\u001b[0m\u001b[0;34m\u001b[0m\u001b[0m\n\u001b[1;32m    423\u001b[0m             \u001b[0mself\u001b[0m\u001b[0;34m.\u001b[0m\u001b[0m_raise_timeout\u001b[0m\u001b[0;34m(\u001b[0m\u001b[0merr\u001b[0m\u001b[0;34m=\u001b[0m\u001b[0me\u001b[0m\u001b[0;34m,\u001b[0m \u001b[0murl\u001b[0m\u001b[0;34m=\u001b[0m\u001b[0murl\u001b[0m\u001b[0;34m,\u001b[0m \u001b[0mtimeout_value\u001b[0m\u001b[0;34m=\u001b[0m\u001b[0mread_timeout\u001b[0m\u001b[0;34m)\u001b[0m\u001b[0;34m\u001b[0m\u001b[0;34m\u001b[0m\u001b[0m\n",
      "\u001b[0;32m/usr/local/lib/python3.7/site-packages/urllib3/packages/six.py\u001b[0m in \u001b[0;36mraise_from\u001b[0;34m(value, from_value)\u001b[0m\n",
      "\u001b[0;32m/usr/local/lib/python3.7/site-packages/urllib3/connectionpool.py\u001b[0m in \u001b[0;36m_make_request\u001b[0;34m(self, conn, method, url, timeout, chunked, **httplib_request_kw)\u001b[0m\n\u001b[1;32m    414\u001b[0m                 \u001b[0;31m# Python 3\u001b[0m\u001b[0;34m\u001b[0m\u001b[0;34m\u001b[0m\u001b[0;34m\u001b[0m\u001b[0m\n\u001b[1;32m    415\u001b[0m                 \u001b[0;32mtry\u001b[0m\u001b[0;34m:\u001b[0m\u001b[0;34m\u001b[0m\u001b[0;34m\u001b[0m\u001b[0m\n\u001b[0;32m--> 416\u001b[0;31m                     \u001b[0mhttplib_response\u001b[0m \u001b[0;34m=\u001b[0m \u001b[0mconn\u001b[0m\u001b[0;34m.\u001b[0m\u001b[0mgetresponse\u001b[0m\u001b[0;34m(\u001b[0m\u001b[0;34m)\u001b[0m\u001b[0;34m\u001b[0m\u001b[0;34m\u001b[0m\u001b[0m\n\u001b[0m\u001b[1;32m    417\u001b[0m                 \u001b[0;32mexcept\u001b[0m \u001b[0mBaseException\u001b[0m \u001b[0;32mas\u001b[0m \u001b[0me\u001b[0m\u001b[0;34m:\u001b[0m\u001b[0;34m\u001b[0m\u001b[0;34m\u001b[0m\u001b[0m\n\u001b[1;32m    418\u001b[0m                     \u001b[0;31m# Remove the TypeError from the exception chain in\u001b[0m\u001b[0;34m\u001b[0m\u001b[0;34m\u001b[0m\u001b[0;34m\u001b[0m\u001b[0m\n",
      "\u001b[0;32m/usr/local/Cellar/python/3.7.7/Frameworks/Python.framework/Versions/3.7/lib/python3.7/http/client.py\u001b[0m in \u001b[0;36mgetresponse\u001b[0;34m(self)\u001b[0m\n\u001b[1;32m   1342\u001b[0m         \u001b[0;32mtry\u001b[0m\u001b[0;34m:\u001b[0m\u001b[0;34m\u001b[0m\u001b[0;34m\u001b[0m\u001b[0m\n\u001b[1;32m   1343\u001b[0m             \u001b[0;32mtry\u001b[0m\u001b[0;34m:\u001b[0m\u001b[0;34m\u001b[0m\u001b[0;34m\u001b[0m\u001b[0m\n\u001b[0;32m-> 1344\u001b[0;31m                 \u001b[0mresponse\u001b[0m\u001b[0;34m.\u001b[0m\u001b[0mbegin\u001b[0m\u001b[0;34m(\u001b[0m\u001b[0;34m)\u001b[0m\u001b[0;34m\u001b[0m\u001b[0;34m\u001b[0m\u001b[0m\n\u001b[0m\u001b[1;32m   1345\u001b[0m             \u001b[0;32mexcept\u001b[0m \u001b[0mConnectionError\u001b[0m\u001b[0;34m:\u001b[0m\u001b[0;34m\u001b[0m\u001b[0;34m\u001b[0m\u001b[0m\n\u001b[1;32m   1346\u001b[0m                 \u001b[0mself\u001b[0m\u001b[0;34m.\u001b[0m\u001b[0mclose\u001b[0m\u001b[0;34m(\u001b[0m\u001b[0;34m)\u001b[0m\u001b[0;34m\u001b[0m\u001b[0;34m\u001b[0m\u001b[0m\n",
      "\u001b[0;32m/usr/local/Cellar/python/3.7.7/Frameworks/Python.framework/Versions/3.7/lib/python3.7/http/client.py\u001b[0m in \u001b[0;36mbegin\u001b[0;34m(self)\u001b[0m\n\u001b[1;32m    304\u001b[0m         \u001b[0;31m# read until we get a non-100 response\u001b[0m\u001b[0;34m\u001b[0m\u001b[0;34m\u001b[0m\u001b[0;34m\u001b[0m\u001b[0m\n\u001b[1;32m    305\u001b[0m         \u001b[0;32mwhile\u001b[0m \u001b[0;32mTrue\u001b[0m\u001b[0;34m:\u001b[0m\u001b[0;34m\u001b[0m\u001b[0;34m\u001b[0m\u001b[0m\n\u001b[0;32m--> 306\u001b[0;31m             \u001b[0mversion\u001b[0m\u001b[0;34m,\u001b[0m \u001b[0mstatus\u001b[0m\u001b[0;34m,\u001b[0m \u001b[0mreason\u001b[0m \u001b[0;34m=\u001b[0m \u001b[0mself\u001b[0m\u001b[0;34m.\u001b[0m\u001b[0m_read_status\u001b[0m\u001b[0;34m(\u001b[0m\u001b[0;34m)\u001b[0m\u001b[0;34m\u001b[0m\u001b[0;34m\u001b[0m\u001b[0m\n\u001b[0m\u001b[1;32m    307\u001b[0m             \u001b[0;32mif\u001b[0m \u001b[0mstatus\u001b[0m \u001b[0;34m!=\u001b[0m \u001b[0mCONTINUE\u001b[0m\u001b[0;34m:\u001b[0m\u001b[0;34m\u001b[0m\u001b[0;34m\u001b[0m\u001b[0m\n\u001b[1;32m    308\u001b[0m                 \u001b[0;32mbreak\u001b[0m\u001b[0;34m\u001b[0m\u001b[0;34m\u001b[0m\u001b[0m\n",
      "\u001b[0;32m/usr/local/Cellar/python/3.7.7/Frameworks/Python.framework/Versions/3.7/lib/python3.7/http/client.py\u001b[0m in \u001b[0;36m_read_status\u001b[0;34m(self)\u001b[0m\n\u001b[1;32m    265\u001b[0m \u001b[0;34m\u001b[0m\u001b[0m\n\u001b[1;32m    266\u001b[0m     \u001b[0;32mdef\u001b[0m \u001b[0m_read_status\u001b[0m\u001b[0;34m(\u001b[0m\u001b[0mself\u001b[0m\u001b[0;34m)\u001b[0m\u001b[0;34m:\u001b[0m\u001b[0;34m\u001b[0m\u001b[0;34m\u001b[0m\u001b[0m\n\u001b[0;32m--> 267\u001b[0;31m         \u001b[0mline\u001b[0m \u001b[0;34m=\u001b[0m \u001b[0mstr\u001b[0m\u001b[0;34m(\u001b[0m\u001b[0mself\u001b[0m\u001b[0;34m.\u001b[0m\u001b[0mfp\u001b[0m\u001b[0;34m.\u001b[0m\u001b[0mreadline\u001b[0m\u001b[0;34m(\u001b[0m\u001b[0m_MAXLINE\u001b[0m \u001b[0;34m+\u001b[0m \u001b[0;36m1\u001b[0m\u001b[0;34m)\u001b[0m\u001b[0;34m,\u001b[0m \u001b[0;34m\"iso-8859-1\"\u001b[0m\u001b[0;34m)\u001b[0m\u001b[0;34m\u001b[0m\u001b[0;34m\u001b[0m\u001b[0m\n\u001b[0m\u001b[1;32m    268\u001b[0m         \u001b[0;32mif\u001b[0m \u001b[0mlen\u001b[0m\u001b[0;34m(\u001b[0m\u001b[0mline\u001b[0m\u001b[0;34m)\u001b[0m \u001b[0;34m>\u001b[0m \u001b[0m_MAXLINE\u001b[0m\u001b[0;34m:\u001b[0m\u001b[0;34m\u001b[0m\u001b[0;34m\u001b[0m\u001b[0m\n\u001b[1;32m    269\u001b[0m             \u001b[0;32mraise\u001b[0m \u001b[0mLineTooLong\u001b[0m\u001b[0;34m(\u001b[0m\u001b[0;34m\"status line\"\u001b[0m\u001b[0;34m)\u001b[0m\u001b[0;34m\u001b[0m\u001b[0;34m\u001b[0m\u001b[0m\n",
      "\u001b[0;32m/usr/local/Cellar/python/3.7.7/Frameworks/Python.framework/Versions/3.7/lib/python3.7/socket.py\u001b[0m in \u001b[0;36mreadinto\u001b[0;34m(self, b)\u001b[0m\n\u001b[1;32m    587\u001b[0m         \u001b[0;32mwhile\u001b[0m \u001b[0;32mTrue\u001b[0m\u001b[0;34m:\u001b[0m\u001b[0;34m\u001b[0m\u001b[0;34m\u001b[0m\u001b[0m\n\u001b[1;32m    588\u001b[0m             \u001b[0;32mtry\u001b[0m\u001b[0;34m:\u001b[0m\u001b[0;34m\u001b[0m\u001b[0;34m\u001b[0m\u001b[0m\n\u001b[0;32m--> 589\u001b[0;31m                 \u001b[0;32mreturn\u001b[0m \u001b[0mself\u001b[0m\u001b[0;34m.\u001b[0m\u001b[0m_sock\u001b[0m\u001b[0;34m.\u001b[0m\u001b[0mrecv_into\u001b[0m\u001b[0;34m(\u001b[0m\u001b[0mb\u001b[0m\u001b[0;34m)\u001b[0m\u001b[0;34m\u001b[0m\u001b[0;34m\u001b[0m\u001b[0m\n\u001b[0m\u001b[1;32m    590\u001b[0m             \u001b[0;32mexcept\u001b[0m \u001b[0mtimeout\u001b[0m\u001b[0;34m:\u001b[0m\u001b[0;34m\u001b[0m\u001b[0;34m\u001b[0m\u001b[0m\n\u001b[1;32m    591\u001b[0m                 \u001b[0mself\u001b[0m\u001b[0;34m.\u001b[0m\u001b[0m_timeout_occurred\u001b[0m \u001b[0;34m=\u001b[0m \u001b[0;32mTrue\u001b[0m\u001b[0;34m\u001b[0m\u001b[0;34m\u001b[0m\u001b[0m\n",
      "\u001b[0;32m/usr/local/Cellar/python/3.7.7/Frameworks/Python.framework/Versions/3.7/lib/python3.7/ssl.py\u001b[0m in \u001b[0;36mrecv_into\u001b[0;34m(self, buffer, nbytes, flags)\u001b[0m\n\u001b[1;32m   1069\u001b[0m                   \u001b[0;34m\"non-zero flags not allowed in calls to recv_into() on %s\"\u001b[0m \u001b[0;34m%\u001b[0m\u001b[0;34m\u001b[0m\u001b[0;34m\u001b[0m\u001b[0m\n\u001b[1;32m   1070\u001b[0m                   self.__class__)\n\u001b[0;32m-> 1071\u001b[0;31m             \u001b[0;32mreturn\u001b[0m \u001b[0mself\u001b[0m\u001b[0;34m.\u001b[0m\u001b[0mread\u001b[0m\u001b[0;34m(\u001b[0m\u001b[0mnbytes\u001b[0m\u001b[0;34m,\u001b[0m \u001b[0mbuffer\u001b[0m\u001b[0;34m)\u001b[0m\u001b[0;34m\u001b[0m\u001b[0;34m\u001b[0m\u001b[0m\n\u001b[0m\u001b[1;32m   1072\u001b[0m         \u001b[0;32melse\u001b[0m\u001b[0;34m:\u001b[0m\u001b[0;34m\u001b[0m\u001b[0;34m\u001b[0m\u001b[0m\n\u001b[1;32m   1073\u001b[0m             \u001b[0;32mreturn\u001b[0m \u001b[0msuper\u001b[0m\u001b[0;34m(\u001b[0m\u001b[0;34m)\u001b[0m\u001b[0;34m.\u001b[0m\u001b[0mrecv_into\u001b[0m\u001b[0;34m(\u001b[0m\u001b[0mbuffer\u001b[0m\u001b[0;34m,\u001b[0m \u001b[0mnbytes\u001b[0m\u001b[0;34m,\u001b[0m \u001b[0mflags\u001b[0m\u001b[0;34m)\u001b[0m\u001b[0;34m\u001b[0m\u001b[0;34m\u001b[0m\u001b[0m\n",
      "\u001b[0;32m/usr/local/Cellar/python/3.7.7/Frameworks/Python.framework/Versions/3.7/lib/python3.7/ssl.py\u001b[0m in \u001b[0;36mread\u001b[0;34m(self, len, buffer)\u001b[0m\n\u001b[1;32m    927\u001b[0m         \u001b[0;32mtry\u001b[0m\u001b[0;34m:\u001b[0m\u001b[0;34m\u001b[0m\u001b[0;34m\u001b[0m\u001b[0m\n\u001b[1;32m    928\u001b[0m             \u001b[0;32mif\u001b[0m \u001b[0mbuffer\u001b[0m \u001b[0;32mis\u001b[0m \u001b[0;32mnot\u001b[0m \u001b[0;32mNone\u001b[0m\u001b[0;34m:\u001b[0m\u001b[0;34m\u001b[0m\u001b[0;34m\u001b[0m\u001b[0m\n\u001b[0;32m--> 929\u001b[0;31m                 \u001b[0;32mreturn\u001b[0m \u001b[0mself\u001b[0m\u001b[0;34m.\u001b[0m\u001b[0m_sslobj\u001b[0m\u001b[0;34m.\u001b[0m\u001b[0mread\u001b[0m\u001b[0;34m(\u001b[0m\u001b[0mlen\u001b[0m\u001b[0;34m,\u001b[0m \u001b[0mbuffer\u001b[0m\u001b[0;34m)\u001b[0m\u001b[0;34m\u001b[0m\u001b[0;34m\u001b[0m\u001b[0m\n\u001b[0m\u001b[1;32m    930\u001b[0m             \u001b[0;32melse\u001b[0m\u001b[0;34m:\u001b[0m\u001b[0;34m\u001b[0m\u001b[0;34m\u001b[0m\u001b[0m\n\u001b[1;32m    931\u001b[0m                 \u001b[0;32mreturn\u001b[0m \u001b[0mself\u001b[0m\u001b[0;34m.\u001b[0m\u001b[0m_sslobj\u001b[0m\u001b[0;34m.\u001b[0m\u001b[0mread\u001b[0m\u001b[0;34m(\u001b[0m\u001b[0mlen\u001b[0m\u001b[0;34m)\u001b[0m\u001b[0;34m\u001b[0m\u001b[0;34m\u001b[0m\u001b[0m\n",
      "\u001b[0;31mKeyboardInterrupt\u001b[0m: "
     ]
    }
   ],
   "source": [
    "monthly_interests = get_trends_Tags(frequent_tags_archive)\n",
    "monthly_interests"
   ]
  },
  {
   "cell_type": "markdown",
   "metadata": {},
   "source": [
    "### Reddit API\n",
    "https://praw.readthedocs.io/en/latest/"
   ]
  },
  {
   "cell_type": "code",
   "execution_count": 222,
   "metadata": {},
   "outputs": [],
   "source": [
    "def unique_top_tag_only(frequent_tags_archive):\n",
    "    unique_top_tag_only={}\n",
    "    for periode in frequent_tags_archive:\n",
    "        for tag_with_F in frequent_tags_archive[periode]:\n",
    "            if tag_with_F[0] in unique_top_tag_only:\n",
    "                unique_top_tag_only[tag_with_F[0]] = tag_with_F[1] + unique_top_tag_only[tag_with_F[0]]\n",
    "            else:\n",
    "                unique_top_tag_only[tag_with_F[0]] = tag_with_F[1]\n",
    "\n",
    "    unique_top_tag_only = sorted(unique_top_tag_only.items(),key=operator.itemgetter(1),reverse=True)[:30]\n",
    "\n",
    "    return unique_top_tag_only       "
   ]
  },
  {
   "cell_type": "code",
   "execution_count": 223,
   "metadata": {},
   "outputs": [
    {
     "data": {
      "text/plain": [
       "[('Coronavirus (2019-nCoV)', 9031),\n",
       " ('Presidential Election of 2020', 6000),\n",
       " ('Joe Biden', 4579),\n",
       " ('Parenting', 3867),\n",
       " ('Deaths', 3163),\n",
       " ('Bernie Sanders', 2395),\n",
       " ('United States International Relations', 2327),\n",
       " ('Quarantines', 2189),\n",
       " ('Trump-Ukraine', 2111),\n",
       " ('Epidemics', 1441),\n",
       " ('Impeachment', 1352),\n",
       " ('China', 1073),\n",
       " ('Coronavirus Aid, Relief, and Economic Security Act (2020)', 1011),\n",
       " ('Shutdowns', 744),\n",
       " ('Immigration and Emigration', 679),\n",
       " ('House of Representatives', 601),\n",
       " ('Art', 579),\n",
       " ('Ukraine', 568),\n",
       " ('Pete Buttigieg', 559),\n",
       " ('Demonstrations', 497),\n",
       " ('Hospitals', 455),\n",
       " ('International Trade and World Market', 414),\n",
       " ('Senate', 377),\n",
       " ('Protests and Riots', 366),\n",
       " ('Republican Party', 348),\n",
       " ('Theater', 348),\n",
       " ('Iran', 345),\n",
       " ('United States Defense and Military Forces', 268),\n",
       " ('Michael R', 259),\n",
       " ('Suleimani', 257)]"
      ]
     },
     "execution_count": 223,
     "metadata": {},
     "output_type": "execute_result"
    }
   ],
   "source": [
    "unique_top_tag_only = unique_top_tag_only(frequent_tags_archive)\n",
    "unique_top_tag_only"
   ]
  },
  {
   "cell_type": "code",
   "execution_count": 233,
   "metadata": {},
   "outputs": [],
   "source": [
    "def get_reddit_comments(unique_top_tag_only):\n",
    "    \n",
    "    reddit = praw.Reddit(client_id = Reddit_client_id,\n",
    "                         client_secret = Reddit_client_secret,\n",
    "                         username = Reddit_username,\n",
    "                         password = Reddit_password,\n",
    "                         user_agent = Reddit_user_agent)\n",
    "#     times_metadata = {'2020-04':['Coronavirus (2019-nCoV)', 'Quarantines', 'Parenting'], '2019-04': ['China', 'Epidemics', 'Deaths (Fatalities)']}\n",
    "\n",
    "    reddit_metadata = []\n",
    "    for tag_frequency in unique_top_tag_only[:5]:\n",
    "        subreddit = reddit.subreddit('all')\n",
    "        time.sleep(2)\n",
    "\n",
    "        each_tag = {}\n",
    "        for i, post in enumerate(subreddit.search(tag_frequency[0], sort='relevance', syntax='lucene', limit=3)):\n",
    "            count = 0;\n",
    "            if not post.stickied:\n",
    "                each_tag['Tag'] = tag_frequency[0]\n",
    "                print('* *',tag_frequency[0])\n",
    "#                 each_tag['Title'] = post.title\n",
    "#                 each_tag['CreatedAt'] = datetime.fromtimestamp(post.created_utc).isoformat()[:10]\n",
    "#                 each_tag['DiscussionAbout'] = post.url\n",
    "                print('* * *', post.url)\n",
    "                each_tag_comments = post.comments.list()\n",
    "                comments_arr = []\n",
    "                for comment in each_tag_comments:\n",
    "                    if isinstance(comment, MoreComments):\n",
    "                        continue\n",
    "                    comments_arr.append(comment.body)\n",
    "                    count = count + len(comments_arr)\n",
    "                each_tag['comments'] = count\n",
    "\n",
    "        reddit_metadata.append(each_tag)\n",
    "                    \n",
    "    return reddit_metadata"
   ]
  },
  {
   "cell_type": "code",
   "execution_count": 234,
   "metadata": {},
   "outputs": [
    {
     "name": "stdout",
     "output_type": "stream",
     "text": [
      "* * Coronavirus (2019-nCoV)\n",
      "* * * https://www.reddit.com/r/askscience/comments/ewwmem/have_a_question_about_the_2019_novel_coronavirus/\n",
      "* * Coronavirus (2019-nCoV)\n",
      "* * * https://twitter.com/WHO/status/1217043229427761152\n",
      "* * Coronavirus (2019-nCoV)\n",
      "* * * https://www.medrxiv.org/content/10.1101/2020.02.07.20021154v1.full.pdf\n",
      "* * Presidential Election of 2020\n",
      "* * * https://www.reddit.com/r/SampleSize/comments/geuqnv/casual_who_would_you_like_to_see_win_the_us/\n",
      "* * Presidential Election of 2020\n",
      "* * * https://www.reddit.com/r/AskOuija/comments/f1iykn/will_win_the_presidential_election_of_2020/\n",
      "* * Presidential Election of 2020\n",
      "* * * https://www.reddit.com/r/AskOuija/comments/9peqyy/and_our_final_candidate_for_the_presidential/\n",
      "* * Joe Biden\n",
      "* * * https://www.reddit.com/r/politics/comments/g0orjb/megathread_senator_bernie_sanders_endorses_joe/\n",
      "* * Joe Biden\n",
      "* * * https://www.reddit.com/r/politics/comments/g19ge3/megathread_barack_obama_endorses_joe_biden_for/\n",
      "* * Joe Biden\n",
      "* * * https://www.reddit.com/r/politics/comments/gbight/megathread_joe_biden_denies_sexual_assault/\n",
      "* * Parenting\n",
      "* * * https://v.redd.it/jgmu06qo1ts41\n",
      "* * Parenting\n",
      "* * * https://i.redd.it/9fjpuqvsgcw41.png\n",
      "* * Parenting\n",
      "* * * https://v.redd.it/jgmu06qo1ts41\n",
      "* * Deaths\n",
      "* * * https://i.redd.it/mp1cdssdsmx41.jpg\n",
      "* * Deaths\n",
      "* * * https://nypost.com/2020/05/07/sweden-sees-higher-death-rate-than-us-after-refusing-lockdowns/\n",
      "* * Deaths\n",
      "* * * https://www.independent.co.uk/news/world/americas/donald-trump-obamagate-michael-flynn-twitter-a9507771.html\n"
     ]
    },
    {
     "data": {
      "text/plain": [
       "[{'Tag': 'Coronavirus (2019-nCoV)', 'comments': 40755},\n",
       " {'Tag': 'Presidential Election of 2020', 'comments': 105},\n",
       " {'Tag': 'Joe Biden', 'comments': 122265},\n",
       " {'Tag': 'Parenting', 'comments': 122265},\n",
       " {'Tag': 'Deaths', 'comments': 124750}]"
      ]
     },
     "execution_count": 234,
     "metadata": {},
     "output_type": "execute_result"
    }
   ],
   "source": [
    "get_reddit_comments(unique_top_tag_only)"
   ]
  },
  {
   "cell_type": "markdown",
   "metadata": {},
   "source": [
    "## Not using anymore\n",
    "\n",
    "- Top Stories API: (about 30 articles by 7 days): title, pub_date, url, section, des_facet, geo_facet\n",
    "- Newswire API: Finds by Archive API's url : des_facet\n",
    "- Most Popular API\n",
    "- Top Stories API, Times Tags API, Community API"
   ]
  },
  {
   "cell_type": "markdown",
   "metadata": {},
   "source": [
    "### Youtube API\n",
    "https://developers.google.com/youtube/v3/docs/search/list?hl=en_US"
   ]
  },
  {
   "cell_type": "code",
   "execution_count": 235,
   "metadata": {},
   "outputs": [],
   "source": [
    "# creating Youtube Resource Object \n",
    "youtube_object = discovery.build(Youtube_service_name, Youtube_API_version, developerKey = Youtube_developer_key)"
   ]
  },
  {
   "cell_type": "code",
   "execution_count": 238,
   "metadata": {},
   "outputs": [],
   "source": [
    "def get_youtube_comments(unique_top_tag_only):  \n",
    "    # calling the search.list method to retrieve youtube search results \n",
    "    \n",
    "    max_results = 10\n",
    "    youtube_metadata = []\n",
    "    for tag_frequency in unique_top_tag_only[:2]:\n",
    "        viewCount = 0\n",
    "        commentCount = 0\n",
    "        likeCount = 0\n",
    "        video = {}\n",
    "        search_tags = youtube_object.search().list(q = tag_frequency[0], part = \"id, snippet\", order = 'relevance', maxResults = max_results, publishedAfter = \"2019-05-01T00:00:00Z\").execute() \n",
    "        print('start: ', tag_frequency[0])\n",
    "        for item in search_tags.get(\"items\", []):\n",
    "            time.sleep(2)\n",
    "            video[\"Tag\"] = tag_frequency[0]\n",
    "#             video[\"videoId\"] = item[\"id\"][\"videoId\"]\n",
    "#             video[\"publishedAt\"] = item['snippet']['publishedAt']\n",
    "#             video[\"title\"] = item['snippet']['title']\n",
    "#             video['description'] = item['snippet']['description']\n",
    "            stats = youtube_object.videos().list(part='statistics, snippet', id=item[\"id\"][\"videoId\"]).execute()\n",
    "            new_viewCount = int(stats.get(\"items\", [])[0]['statistics']['viewCount'])\n",
    "            new_commentCount = int(stats.get(\"items\", [])[0]['statistics']['commentCount'])\n",
    "            new_likeCount =  int(stats.get(\"items\", [])[0]['statistics']['likeCount'])\n",
    "            viewCount = viewCount + new_viewCount\n",
    "            commentCount = commentCount + new_commentCount\n",
    "            likeCount = likeCount + new_likeCount\n",
    "            video['viewCount'] = viewCount\n",
    "            video['commentCount'] = commentCount\n",
    "            video['likeCount'] = likeCount\n",
    "        youtube_metadata.append(video)\n",
    "    return youtube_metadata"
   ]
  },
  {
   "cell_type": "code",
   "execution_count": 239,
   "metadata": {},
   "outputs": [
    {
     "name": "stdout",
     "output_type": "stream",
     "text": [
      "start:  Coronavirus (2019-nCoV)\n"
     ]
    },
    {
     "ename": "KeyError",
     "evalue": "'commentCount'",
     "output_type": "error",
     "traceback": [
      "\u001b[0;31m---------------------------------------------------------------------------\u001b[0m",
      "\u001b[0;31mKeyError\u001b[0m                                  Traceback (most recent call last)",
      "\u001b[0;32m<ipython-input-239-a9f0f43a6bd1>\u001b[0m in \u001b[0;36m<module>\u001b[0;34m\u001b[0m\n\u001b[0;32m----> 1\u001b[0;31m \u001b[0mget_youtube_comments\u001b[0m\u001b[0;34m(\u001b[0m\u001b[0munique_top_tag_only\u001b[0m\u001b[0;34m)\u001b[0m\u001b[0;34m\u001b[0m\u001b[0;34m\u001b[0m\u001b[0m\n\u001b[0m",
      "\u001b[0;32m<ipython-input-238-1707106b5f9c>\u001b[0m in \u001b[0;36mget_youtube_comments\u001b[0;34m(unique_top_tag_only)\u001b[0m\n\u001b[1;32m     20\u001b[0m             \u001b[0mstats\u001b[0m \u001b[0;34m=\u001b[0m \u001b[0myoutube_object\u001b[0m\u001b[0;34m.\u001b[0m\u001b[0mvideos\u001b[0m\u001b[0;34m(\u001b[0m\u001b[0;34m)\u001b[0m\u001b[0;34m.\u001b[0m\u001b[0mlist\u001b[0m\u001b[0;34m(\u001b[0m\u001b[0mpart\u001b[0m\u001b[0;34m=\u001b[0m\u001b[0;34m'statistics, snippet'\u001b[0m\u001b[0;34m,\u001b[0m \u001b[0mid\u001b[0m\u001b[0;34m=\u001b[0m\u001b[0mitem\u001b[0m\u001b[0;34m[\u001b[0m\u001b[0;34m\"id\"\u001b[0m\u001b[0;34m]\u001b[0m\u001b[0;34m[\u001b[0m\u001b[0;34m\"videoId\"\u001b[0m\u001b[0;34m]\u001b[0m\u001b[0;34m)\u001b[0m\u001b[0;34m.\u001b[0m\u001b[0mexecute\u001b[0m\u001b[0;34m(\u001b[0m\u001b[0;34m)\u001b[0m\u001b[0;34m\u001b[0m\u001b[0;34m\u001b[0m\u001b[0m\n\u001b[1;32m     21\u001b[0m             \u001b[0mnew_viewCount\u001b[0m \u001b[0;34m=\u001b[0m \u001b[0mint\u001b[0m\u001b[0;34m(\u001b[0m\u001b[0mstats\u001b[0m\u001b[0;34m.\u001b[0m\u001b[0mget\u001b[0m\u001b[0;34m(\u001b[0m\u001b[0;34m\"items\"\u001b[0m\u001b[0;34m,\u001b[0m \u001b[0;34m[\u001b[0m\u001b[0;34m]\u001b[0m\u001b[0;34m)\u001b[0m\u001b[0;34m[\u001b[0m\u001b[0;36m0\u001b[0m\u001b[0;34m]\u001b[0m\u001b[0;34m[\u001b[0m\u001b[0;34m'statistics'\u001b[0m\u001b[0;34m]\u001b[0m\u001b[0;34m[\u001b[0m\u001b[0;34m'viewCount'\u001b[0m\u001b[0;34m]\u001b[0m\u001b[0;34m)\u001b[0m\u001b[0;34m\u001b[0m\u001b[0;34m\u001b[0m\u001b[0m\n\u001b[0;32m---> 22\u001b[0;31m             \u001b[0mnew_commentCount\u001b[0m \u001b[0;34m=\u001b[0m \u001b[0mint\u001b[0m\u001b[0;34m(\u001b[0m\u001b[0mstats\u001b[0m\u001b[0;34m.\u001b[0m\u001b[0mget\u001b[0m\u001b[0;34m(\u001b[0m\u001b[0;34m\"items\"\u001b[0m\u001b[0;34m,\u001b[0m \u001b[0;34m[\u001b[0m\u001b[0;34m]\u001b[0m\u001b[0;34m)\u001b[0m\u001b[0;34m[\u001b[0m\u001b[0;36m0\u001b[0m\u001b[0;34m]\u001b[0m\u001b[0;34m[\u001b[0m\u001b[0;34m'statistics'\u001b[0m\u001b[0;34m]\u001b[0m\u001b[0;34m[\u001b[0m\u001b[0;34m'commentCount'\u001b[0m\u001b[0;34m]\u001b[0m\u001b[0;34m)\u001b[0m\u001b[0;34m\u001b[0m\u001b[0;34m\u001b[0m\u001b[0m\n\u001b[0m\u001b[1;32m     23\u001b[0m             \u001b[0mnew_likeCount\u001b[0m \u001b[0;34m=\u001b[0m  \u001b[0mint\u001b[0m\u001b[0;34m(\u001b[0m\u001b[0mstats\u001b[0m\u001b[0;34m.\u001b[0m\u001b[0mget\u001b[0m\u001b[0;34m(\u001b[0m\u001b[0;34m\"items\"\u001b[0m\u001b[0;34m,\u001b[0m \u001b[0;34m[\u001b[0m\u001b[0;34m]\u001b[0m\u001b[0;34m)\u001b[0m\u001b[0;34m[\u001b[0m\u001b[0;36m0\u001b[0m\u001b[0;34m]\u001b[0m\u001b[0;34m[\u001b[0m\u001b[0;34m'statistics'\u001b[0m\u001b[0;34m]\u001b[0m\u001b[0;34m[\u001b[0m\u001b[0;34m'likeCount'\u001b[0m\u001b[0;34m]\u001b[0m\u001b[0;34m)\u001b[0m\u001b[0;34m\u001b[0m\u001b[0;34m\u001b[0m\u001b[0m\n\u001b[1;32m     24\u001b[0m             \u001b[0mviewCount\u001b[0m \u001b[0;34m=\u001b[0m \u001b[0mviewCount\u001b[0m \u001b[0;34m+\u001b[0m \u001b[0mnew_viewCount\u001b[0m\u001b[0;34m\u001b[0m\u001b[0;34m\u001b[0m\u001b[0m\n",
      "\u001b[0;31mKeyError\u001b[0m: 'commentCount'"
     ]
    }
   ],
   "source": [
    "get_youtube_comments(unique_top_tag_only)"
   ]
  },
  {
   "cell_type": "markdown",
   "metadata": {},
   "source": [
    "## Reddit"
   ]
  },
  {
   "cell_type": "code",
   "execution_count": null,
   "metadata": {
    "scrolled": false
   },
   "outputs": [],
   "source": [
    "nltk.download('averaged_perceptron_tagger')"
   ]
  },
  {
   "cell_type": "code",
   "execution_count": null,
   "metadata": {},
   "outputs": [],
   "source": [
    "def get_sentimental_chart(reddit_metadata):\n",
    "    tags_metadata = []\n",
    "    for single_tag in reddit_metadata:\n",
    "        tag_sentiment = {}\n",
    "        avg_polarity = 0\n",
    "        pos_count = 0\n",
    "        neg_count = 0\n",
    "        neutral_count = 0\n",
    "        for single_comment in single_tag['Comments']: \n",
    "            \n",
    "            # Get Word Sentimental analysis\n",
    "            blobed_word = TextBlob(single_comment)\n",
    "            if blobed_word.sentiment.polarity > 0:\n",
    "                pos_count += 1\n",
    "            elif blobed_word.sentiment.polarity == 0:\n",
    "                neutral_count += 1\n",
    "            else:\n",
    "                neg_count += 1      \n",
    "            avg_polarity += blobed_word.sentiment.polarity\n",
    "            \n",
    "            tag_sentiment['tag'] = single_tag['Tag']    \n",
    "            tag_sentiment['avg_polarity'] = avg_polarity / len(single_tag['Comments'])\n",
    "            tag_sentiment['pos_count'] = pos_count\n",
    "            tag_sentiment['neg_count'] = neg_count\n",
    "            tag_sentiment['neutral_count'] = neutral_count\n",
    "            \n",
    "            # Get Adjective words' frequencies\n",
    "            adgs_arr = []\n",
    "            for blobed_tags in blobed_word.tags:\n",
    "                if blobed_tags[1] in ['JJ', 'JJR', 'JJS']:\n",
    "                    adgs_arr.append(blobed_tags[0])\n",
    "            adg_frequency = {}\n",
    "            for adg in adgs_arr: \n",
    "                if adg in adg_frequency:\n",
    "                    adg_frequency[adg] += 1\n",
    "                else:\n",
    "                    adg_frequency[adg] = 1 \n",
    "            tag_sentiment['adg_frequency'] = sorted(adg_frequency.items(),key=operator.itemgetter(1),reverse=True)[:3]       \n",
    "        tags_metadata.append(tag_sentiment)\n",
    "        \n",
    "    return tags_metadata"
   ]
  },
  {
   "cell_type": "code",
   "execution_count": 138,
   "metadata": {},
   "outputs": [],
   "source": [
    "frequent_tags_archive = {'2020-04': [('Coronavirus (2019-nCoV)', 3591),\n",
    "  ('Quarantines', 822)]}"
   ]
  },
  {
   "cell_type": "code",
   "execution_count": 173,
   "metadata": {},
   "outputs": [],
   "source": [
    "def get_reddit_Posts(times_metadata):   \n",
    "#     result = {}\n",
    "#     for time_period in times_metadata:\n",
    "#         data = []\n",
    "#         for each in times_metadata[time_period]:     \n",
    "#             data.append(each['Tag'])\n",
    "#             result[time_period] = data  \n",
    "            \n",
    "    reddit = praw.Reddit(client_id = Reddit_client_id,\n",
    "                         client_secret = Reddit_client_secret,\n",
    "                         username = Reddit_username,\n",
    "                         password = Reddit_password,\n",
    "                         user_agent = Reddit_user_agent)\n",
    "    result = {'2020-04':['Coronavirus (2019-nCoV)', 'Quarantines', 'Parenting'], '2019-04': ['China', 'Epidemics', 'Deaths (Fatalities)']}\n",
    " \n",
    "    reddit_metadata = []\n",
    "    for period in result:\n",
    "        print(period + ': ', len(result[period]))\n",
    "        reddit_posts = {}\n",
    "        add_post_arr = []\n",
    "        for tag in result[period]:\n",
    "            subreddit = reddit.subreddit('all')\n",
    "            time.sleep(2)\n",
    "            for i, post in enumerate(subreddit.search(tag, sort='relevance', syntax='lucene', limit=100)):\n",
    "                if not post.stickied:\n",
    "                    each_tag = {}\n",
    "                    each_tag['Tag'] = tag\n",
    "#                     print('--1--',tag)\n",
    "                    each_tag['Title'] = post.title\n",
    "                    each_tag['CreatedAt'] = datetime.fromtimestamp(post.created_utc).isoformat()[:10]\n",
    "                    each_tag['DiscussionAbout'] = post.url\n",
    "                    each_tag['Ups'] = post.ups\n",
    "                    each_tag['Downs'] = post.downs\n",
    "                    add_post_arr.append(each_tag)\n",
    "        reddit_posts[period] = add_post_arr\n",
    "        reddit_metadata.append(reddit_posts)\n",
    "#         print('--2--',reddit_metadata)\n",
    "    \n",
    "#     add_tag = {}\n",
    "#     for item in reddit_metadata:\n",
    "#         for period in item: \n",
    "#             monthly_posts = []\n",
    "#             byTime = {}\n",
    "            \n",
    "#             for each_post in item[period]:\n",
    "#                 each_post['CreatedAt'] = each_post['CreatedAt'][:7]\n",
    "\n",
    "#                 if each_post['Tag'] in add_tag:\n",
    "#                     if each_post['CreatedAt'] in byTime:\n",
    "#                         byTime[each_post['CreatedAt']][0] += 1\n",
    "#                         byTime[each_post['CreatedAt']][1] += each_post['Ups']\n",
    "#                     else:\n",
    "#                         add_freq_votes = []\n",
    "#                         byTime[each_post['CreatedAt']] = add_freq_votes\n",
    "#                         add_freq_votes.append(1)\n",
    "#                         add_freq_votes.append(each_post['Ups'])\n",
    "#                 else:\n",
    "#                     add_tag[each_post['Tag']] = byTime\n",
    "#                     if each_post['CreatedAt'] in byTime:\n",
    "#                         byTime[each_post['CreatedAt']][0] += 1\n",
    "#                         byTime[each_post['CreatedAt']][1] += each_post['Ups']\n",
    "#                     else:\n",
    "#                         add_freq_votes = []\n",
    "#                         byTime[each_post['CreatedAt']] = add_freq_votes\n",
    "#                         add_freq_votes.append(1)\n",
    "#                         add_freq_votes.append(each_post['Ups'])\n",
    "# #                     print('--1--', add_tag)\n",
    "#             monthly_posts.append(add_tag)\n",
    "# #             print('--2--', monthly_posts)\n",
    "    \n",
    "# #     print('--3--', monthly_posts)\n",
    "    return reddit_metadata"
   ]
  }
 ],
 "metadata": {
  "kernelspec": {
   "display_name": "Python 3",
   "language": "python",
   "name": "python3"
  },
  "language_info": {
   "codemirror_mode": {
    "name": "ipython",
    "version": 3
   },
   "file_extension": ".py",
   "mimetype": "text/x-python",
   "name": "python",
   "nbconvert_exporter": "python",
   "pygments_lexer": "ipython3",
   "version": "3.7.7"
  }
 },
 "nbformat": 4,
 "nbformat_minor": 2
}
